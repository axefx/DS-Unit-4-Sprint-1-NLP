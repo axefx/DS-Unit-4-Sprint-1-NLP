{
 "cells": [
  {
   "cell_type": "markdown",
   "metadata": {},
   "source": [
    "<img align=\"left\" src=\"https://lever-client-logos.s3.amazonaws.com/864372b1-534c-480e-acd5-9711f850815c-1524247202159.png\" width=200>\n",
    "<br></br>\n",
    "<br></br>\n",
    "\n",
    "# Topic Modeling\n",
    "## *Data Science Unit 4 Sprint 1 Assignment 4*\n",
    "\n",
    "Analyze a corpus of Amazon reviews from Unit 4 Sprint 1 Module 1's lecture using topic modeling: \n",
    "\n",
    "- Fit a Gensim LDA topic model on Amazon Reviews\n",
    "- Select appropriate number of topics\n",
    "- Create some dope visualization of the topics\n",
    "- Write a few bullets on your findings in markdown at the end\n",
    "- **Note**: You don't *have* to use generators for this assignment"
   ]
  },
  {
   "cell_type": "code",
   "execution_count": 5,
   "metadata": {},
   "outputs": [],
   "source": [
    "#Start Here\n",
    "data_path = \"data/Datafiniti_Amazon_Consumer_Reviews_of_Amazon_Products_May19.csv\""
   ]
  },
  {
   "cell_type": "code",
   "execution_count": 9,
   "metadata": {},
   "outputs": [
    {
     "data": {
      "text/plain": [
       "(28332, 24)"
      ]
     },
     "execution_count": 9,
     "metadata": {},
     "output_type": "execute_result"
    }
   ],
   "source": [
    "import pandas as pd\n",
    "\n",
    "reviews_df = pd.read_csv(data_path)\n",
    "reviews_df.shape"
   ]
  },
  {
   "cell_type": "code",
   "execution_count": 16,
   "metadata": {},
   "outputs": [],
   "source": [
    "aaa_batt_df = reviews_df[reviews_df['name'] == \"AmazonBasics AAA Performance Alkaline Batteries (36 Count)\"]"
   ]
  },
  {
   "cell_type": "code",
   "execution_count": 17,
   "metadata": {},
   "outputs": [
    {
     "data": {
      "text/plain": [
       "(8343, 24)"
      ]
     },
     "execution_count": 17,
     "metadata": {},
     "output_type": "execute_result"
    }
   ],
   "source": [
    "aaa_batt_df.shape"
   ]
  },
  {
   "cell_type": "code",
   "execution_count": 21,
   "metadata": {},
   "outputs": [
    {
     "name": "stderr",
     "output_type": "stream",
     "text": [
      "/Users/axel/anaconda3/envs/U4-S1-NLP/lib/python3.7/site-packages/ipykernel_launcher.py:1: FutureWarning: Passing a negative integer is deprecated in version 1.0 and will not be supported in future version. Instead, use None to not limit the column width.\n",
      "  \"\"\"Entry point for launching an IPython kernel.\n"
     ]
    }
   ],
   "source": [
    "pd.set_option('display.max_colwidth', -1)"
   ]
  },
  {
   "cell_type": "code",
   "execution_count": 22,
   "metadata": {},
   "outputs": [
    {
     "data": {
      "text/plain": [
       "0    I order 3 of them and one of the item is bad quality. Is missing backup spring so I have to put a pcs of aluminum to make the battery work.                                                                                                                               \n",
       "1    Bulk is always the less expensive way to go for products like these                                                                                                                                                                                                       \n",
       "2    Well they are not Duracell but for the price i am happy.                                                                                                                                                                                                                  \n",
       "3    Seem to work as well as name brand batteries at a much better price                                                                                                                                                                                                       \n",
       "4    These batteries are very long lasting the price is great.                                                                                                                                                                                                                 \n",
       "5    Bought a lot of batteries for Christmas and the AmazonBasics Cell have been good. I haven't noticed a difference between the brand name batteries and the Amazon Basic brand. Just a lot easier to purchase and have arrive at the house and have on hand. Will buy again.\n",
       "6    ive not had any problame with these batteries have ordered them in the past been very pleased.                                                                                                                                                                            \n",
       "7    Well if you are looking for cheap non-rechargeable batteries that last quite a while then these are perfect. Nothing more to say.                                                                                                                                         \n",
       "8    These do not hold the amount of high power juice like energizer or duracell, but they are half the price.                                                                                                                                                                 \n",
       "9    AmazonBasics AA AAA batteries have done well by me appear to have a good shelf life. I'll buy them again.                                                                                                                                                                 \n",
       "Name: reviews.text, dtype: object"
      ]
     },
     "execution_count": 22,
     "metadata": {},
     "output_type": "execute_result"
    }
   ],
   "source": [
    "aaa_batt_df[\"reviews.text\"].head(10)"
   ]
  },
  {
   "cell_type": "code",
   "execution_count": 24,
   "metadata": {},
   "outputs": [],
   "source": [
    "import spacy\n",
    "\n",
    "nlp = spacy.load(\"en_core_web_lg\")"
   ]
  },
  {
   "cell_type": "code",
   "execution_count": 25,
   "metadata": {},
   "outputs": [],
   "source": [
    "tokens = []\n",
    "\n",
    "for doc in nlp.pipe(aaa_batt_df[\"reviews.text\"]):\n",
    "    doc_tokens = []\n",
    "    for token in doc:\n",
    "        if ((token.is_stop != True) and (token.pos_ != 'PRON') and (token.is_punct != True)):\n",
    "            doc_tokens.append(token.lemma_.strip())\n",
    "            \n",
    "    tokens.append(doc_tokens)"
   ]
  },
  {
   "cell_type": "code",
   "execution_count": 27,
   "metadata": {},
   "outputs": [
    {
     "data": {
      "text/plain": [
       "True"
      ]
     },
     "execution_count": 27,
     "metadata": {},
     "output_type": "execute_result"
    }
   ],
   "source": [
    "len(tokens) == aaa_batt_df.shape[0]"
   ]
  },
  {
   "cell_type": "code",
   "execution_count": 28,
   "metadata": {},
   "outputs": [
    {
     "data": {
      "text/plain": [
       "['order',\n",
       " '3',\n",
       " 'item',\n",
       " 'bad',\n",
       " 'quality',\n",
       " 'miss',\n",
       " 'backup',\n",
       " 'spring',\n",
       " 'pc',\n",
       " 'aluminum',\n",
       " 'battery',\n",
       " 'work']"
      ]
     },
     "execution_count": 28,
     "metadata": {},
     "output_type": "execute_result"
    }
   ],
   "source": [
    "tokens[0]"
   ]
  },
  {
   "cell_type": "code",
   "execution_count": 29,
   "metadata": {},
   "outputs": [],
   "source": [
    "import gensim\n",
    "\n",
    "from gensim import corpora\n",
    "from gensim.models.ldamulticore import LdaMulticore"
   ]
  },
  {
   "cell_type": "code",
   "execution_count": 31,
   "metadata": {},
   "outputs": [],
   "source": [
    "id2word = corpora.Dictionary(tokens)"
   ]
  },
  {
   "cell_type": "code",
   "execution_count": 32,
   "metadata": {},
   "outputs": [
    {
     "data": {
      "text/plain": [
       "4761"
      ]
     },
     "execution_count": 32,
     "metadata": {},
     "output_type": "execute_result"
    }
   ],
   "source": [
    "len(id2word.keys())"
   ]
  },
  {
   "cell_type": "code",
   "execution_count": 33,
   "metadata": {},
   "outputs": [],
   "source": [
    "id2word.filter_extremes(no_below=5, no_above=.95)"
   ]
  },
  {
   "cell_type": "code",
   "execution_count": 34,
   "metadata": {},
   "outputs": [
    {
     "data": {
      "text/plain": [
       "1138"
      ]
     },
     "execution_count": 34,
     "metadata": {},
     "output_type": "execute_result"
    }
   ],
   "source": [
    "len(id2word.keys())"
   ]
  },
  {
   "cell_type": "code",
   "execution_count": 35,
   "metadata": {},
   "outputs": [],
   "source": [
    "corpora = [id2word.doc2bow(doc) for doc in tokens]"
   ]
  },
  {
   "cell_type": "code",
   "execution_count": 36,
   "metadata": {},
   "outputs": [
    {
     "data": {
      "text/plain": [
       "[(3, 2),\n",
       " (17, 2),\n",
       " (22, 1),\n",
       " (23, 1),\n",
       " (24, 1),\n",
       " (25, 1),\n",
       " (26, 1),\n",
       " (27, 2),\n",
       " (28, 1),\n",
       " (29, 1),\n",
       " (30, 1),\n",
       " (31, 1),\n",
       " (32, 1),\n",
       " (33, 2),\n",
       " (34, 1),\n",
       " (35, 1)]"
      ]
     },
     "execution_count": 36,
     "metadata": {},
     "output_type": "execute_result"
    }
   ],
   "source": [
    "corpora[5]"
   ]
  },
  {
   "cell_type": "code",
   "execution_count": 37,
   "metadata": {},
   "outputs": [],
   "source": [
    "lda = LdaMulticore(corpus=corpora,\n",
    "                  id2word=id2word,\n",
    "                  num_topics=15,\n",
    "                  passes=10)"
   ]
  },
  {
   "cell_type": "code",
   "execution_count": 38,
   "metadata": {},
   "outputs": [
    {
     "data": {
      "text/plain": [
       "[(0,\n",
       "  '0.090*\"battery\" + 0.036*\"package\" + 0.028*\"box\" + 0.026*\"come\" + 0.019*\"good\" + 0.017*\"price\" + 0.015*\"pack\" + 0.015*\"easy\" + 0.014*\"open\" + 0.014*\"use\"'),\n",
       " (1,\n",
       "  '0.174*\"great\" + 0.089*\"value\" + 0.073*\"work\" + 0.070*\"battery\" + 0.037*\"product\" + 0.036*\"buy\" + 0.019*\"excellent\" + 0.016*\"thank\" + 0.016*\"Amazon\" + 0.015*\"far\"'),\n",
       " (2,\n",
       "  '0.092*\"battery\" + 0.058*\"leak\" + 0.044*\"bad\" + 0.024*\"problem\" + 0.022*\"brand\" + 0.021*\"not\" + 0.018*\"performance\" + 0.018*\"buy\" + 0.017*\"time\" + 0.016*\"device\"'),\n",
       " (3,\n",
       "  '0.250*\"good\" + 0.100*\"battery\" + 0.079*\"price\" + 0.050*\"brand\" + 0.037*\"far\" + 0.031*\"work\" + 0.029*\"buy\" + 0.021*\"long\" + 0.017*\"deal\" + 0.017*\"time\"'),\n",
       " (4,\n",
       "  '0.101*\"battery\" + 0.035*\"work\" + 0.026*\"expect\" + 0.025*\"die\" + 0.022*\"remote\" + 0.017*\"use\" + 0.017*\"device\" + 0.015*\"time\" + 0.013*\"day\" + 0.013*\"drain\"'),\n",
       " (5,\n",
       "  '0.062*\"battery\" + 0.057*\"great\" + 0.052*\"deal\" + 0.025*\"buy\" + 0.022*\"perfect\" + 0.021*\"brand\" + 0.019*\"AA\" + 0.017*\"use\" + 0.016*\"good\" + 0.015*\"work\"'),\n",
       " (6,\n",
       "  '0.113*\"battery\" + 0.075*\"Amazon\" + 0.021*\"brand\" + 0.019*\"Basics\" + 0.017*\"buy\" + 0.015*\"test\" + 0.013*\"AA\" + 0.013*\"Duracell\" + 0.011*\"dead\" + 0.010*\"time\"'),\n",
       " (7,\n",
       "  '0.045*\"item\" + 0.042*\"ok\" + 0.041*\"battery\" + 0.038*\"nice\" + 0.037*\"fast\" + 0.035*\"describe\" + 0.034*\"awesome\" + 0.031*\"price\" + 0.030*\"great\" + 0.029*\"product\"'),\n",
       " (8,\n",
       "  '0.081*\"battery\" + 0.043*\"buy\" + 0.036*\"money\" + 0.017*\"Amazon\" + 0.016*\"waste\" + 0.014*\"last\" + 0.014*\"pack\" + 0.014*\"save\" + 0.013*\"remote\" + 0.013*\"time\"'),\n",
       " (9,\n",
       "  '0.115*\"work\" + 0.103*\"battery\" + 0.030*\"brand\" + 0.029*\"fine\" + 0.029*\"like\" + 0.021*\"cheap\" + 0.019*\"buy\" + 0.018*\"remote\" + 0.017*\"toy\" + 0.017*\"kid\"'),\n",
       " (10,\n",
       "  '0.206*\"long\" + 0.100*\"battery\" + 0.072*\"brand\" + 0.030*\"last\" + 0.026*\"lasting\" + 0.025*\"life\" + 0.017*\"work\" + 0.017*\"price\" + 0.016*\"cheap\" + 0.013*\"use\"'),\n",
       " (11,\n",
       "  '0.079*\"battery\" + 0.039*\"light\" + 0.035*\"use\" + 0.032*\"week\" + 0.026*\"2\" + 0.025*\"month\" + 0.023*\"hour\" + 0.021*\"buy\" + 0.020*\"life\" + 0.020*\"last\"'),\n",
       " (12,\n",
       "  '0.167*\"price\" + 0.144*\"great\" + 0.144*\"battery\" + 0.026*\"love\" + 0.026*\"work\" + 0.024*\"brand\" + 0.022*\"quality\" + 0.020*\"beat\" + 0.019*\"Amazon\" + 0.016*\"product\"'),\n",
       " (13,\n",
       "  '0.096*\"battery\" + 0.036*\"use\" + 0.026*\"long\" + 0.023*\"brand\" + 0.022*\"toy\" + 0.013*\"AA\" + 0.013*\"time\" + 0.013*\"longer\" + 0.012*\"need\" + 0.012*\"Duracell\"'),\n",
       " (14,\n",
       "  '0.084*\"battery\" + 0.046*\"like\" + 0.036*\"hold\" + 0.033*\"charge\" + 0.033*\"buy\" + 0.031*\"long\" + 0.021*\"time\" + 0.019*\"run\" + 0.018*\"sure\" + 0.018*\"brand\"')]"
      ]
     },
     "execution_count": 38,
     "metadata": {},
     "output_type": "execute_result"
    }
   ],
   "source": [
    "lda.print_topics()"
   ]
  },
  {
   "cell_type": "code",
   "execution_count": 44,
   "metadata": {},
   "outputs": [],
   "source": [
    "import re\n",
    "words = [re.findall('\"([^\"]*)\"', t[1]) for t in lda.print_topics()]"
   ]
  },
  {
   "cell_type": "code",
   "execution_count": 47,
   "metadata": {},
   "outputs": [],
   "source": [
    "topics = [' '.join(t[0:5]) for t in words]"
   ]
  },
  {
   "cell_type": "code",
   "execution_count": 48,
   "metadata": {},
   "outputs": [
    {
     "name": "stdout",
     "output_type": "stream",
     "text": [
      "------ Topic 0 ------\n",
      "battery package box come good\n",
      "\n",
      "------ Topic 1 ------\n",
      "great value work battery product\n",
      "\n",
      "------ Topic 2 ------\n",
      "battery leak bad problem brand\n",
      "\n",
      "------ Topic 3 ------\n",
      "good battery price brand far\n",
      "\n",
      "------ Topic 4 ------\n",
      "battery work expect die remote\n",
      "\n",
      "------ Topic 5 ------\n",
      "battery great deal buy perfect\n",
      "\n",
      "------ Topic 6 ------\n",
      "battery Amazon brand Basics buy\n",
      "\n",
      "------ Topic 7 ------\n",
      "item ok battery nice fast\n",
      "\n",
      "------ Topic 8 ------\n",
      "battery buy money Amazon waste\n",
      "\n",
      "------ Topic 9 ------\n",
      "work battery brand fine like\n",
      "\n",
      "------ Topic 10 ------\n",
      "long battery brand last lasting\n",
      "\n",
      "------ Topic 11 ------\n",
      "battery light use week 2\n",
      "\n",
      "------ Topic 12 ------\n",
      "price great battery love work\n",
      "\n",
      "------ Topic 13 ------\n",
      "battery use long brand toy\n",
      "\n",
      "------ Topic 14 ------\n",
      "battery like hold charge buy\n",
      "\n"
     ]
    }
   ],
   "source": [
    "for id, t in enumerate(topics): \n",
    "    print(f\"------ Topic {id} ------\")\n",
    "    print(t, end=\"\\n\\n\")"
   ]
  },
  {
   "cell_type": "code",
   "execution_count": 52,
   "metadata": {},
   "outputs": [],
   "source": [
    "import pyLDAvis.gensim\n",
    "\n",
    "pyLDAvis.enable_notebook()"
   ]
  },
  {
   "cell_type": "code",
   "execution_count": null,
   "metadata": {},
   "outputs": [],
   "source": [
    "pyLDAvis.gensim.prepare(lda,corpora,id2word)"
   ]
  },
  {
   "cell_type": "code",
   "execution_count": 49,
   "metadata": {},
   "outputs": [],
   "source": [
    "from gensim.models.coherencemodel import CoherenceModel\n",
    "\n",
    "def compute_coherence_values(dictionary, corpus, limit, start=2, step=3, passes=5):\n",
    "    \"\"\"\n",
    "    Compute c_v coherence for various number of topics\n",
    "\n",
    "    Parameters:\n",
    "    ----------\n",
    "    dictionary : Gensim dictionary\n",
    "    corpus : Gensim corpus\n",
    "    limit : Max num of topics\n",
    "    passes: the number of times the entire lda model & coherence values are calculated\n",
    "\n",
    "    Returns:\n",
    "    -------\n",
    "    coherence_values : Coherence values corresponding to the LDA model with respective number of topics\n",
    "    \"\"\"\n",
    "    \n",
    "    coherence_values = []\n",
    "    \n",
    "    for iter_ in range(passes):\n",
    "        for num_topics in range(start, limit, step):\n",
    "            model = LdaMulticore(corpus=corpus, num_topics=num_topics, id2word=dictionary, workers=4)\n",
    "            coherencemodel = CoherenceModel(model=model,dictionary=dictionary,corpus=corpus, coherence='u_mass')\n",
    "            coherence_values.append({'pass': iter_, \n",
    "                                     'num_topics': num_topics, \n",
    "                                     'coherence_score': coherencemodel.get_coherence()\n",
    "                                    })\n",
    "\n",
    "    return coherence_values"
   ]
  },
  {
   "cell_type": "code",
   "execution_count": 54,
   "metadata": {},
   "outputs": [],
   "source": [
    "coherence_values = compute_coherence_values(dictionary=id2word, \n",
    "                                                        corpus=corpora,\n",
    "                                                        start=2, \n",
    "                                                        limit=40, \n",
    "                                                        step=2,\n",
    "                                                        passes=10)"
   ]
  },
  {
   "cell_type": "code",
   "execution_count": 55,
   "metadata": {},
   "outputs": [],
   "source": [
    "topic_coherence = pd.DataFrame.from_records(coherence_values)"
   ]
  },
  {
   "cell_type": "code",
   "execution_count": 56,
   "metadata": {},
   "outputs": [
    {
     "data": {
      "image/png": "[encoded data removed]",
      "text/plain": [
       "<Figure size 432x288 with 1 Axes>"
      ]
     },
     "metadata": {
      "needs_background": "light"
     },
     "output_type": "display_data"
    }
   ],
   "source": [
    "import seaborn as sns\n",
    " \n",
    "ax = sns.lineplot(x=\"num_topics\", y=\"coherence_score\", data=topic_coherence)"
   ]
  },
  {
   "cell_type": "markdown",
   "metadata": {},
   "source": [
    "## Stretch Goals\n",
    "\n",
    "* Incorporate Named Entity Recognition in your analysis\n",
    "* Incorporate some custom pre-processing from our previous lessons (like spacy lemmatization)\n",
    "* Analyze a dataset of interest to you with topic modeling"
   ]
  },
  {
   "cell_type": "code",
   "execution_count": null,
   "metadata": {},
   "outputs": [],
   "source": []
  }
 ],
 "metadata": {
  "kernelspec": {
   "display_name": "U4-S1-NLP (Python3)",
   "language": "python",
   "name": "u4-s1-nlp"
  },
  "language_info": {
   "codemirror_mode": {
    "name": "ipython",
    "version": 3
   },
   "file_extension": ".py",
   "mimetype": "text/x-python",
   "name": "python",
   "nbconvert_exporter": "python",
   "pygments_lexer": "ipython3",
   "version": "3.7.0"
  }
 },
 "nbformat": 4,
 "nbformat_minor": 4
}
